{
 "cells": [
  {
   "cell_type": "markdown",
   "metadata": {},
   "source": [
    "# Data and Analysis: Detecting Match-Fixing Patterns In Tennis\n",
    "\n",
    "The Python code below runs the anonymized implementation of the [methodology described here](../README.md) that was used in \"[The Tennis Racket](http://www.buzzfeed.com/heidiblake/the-tennis-racket)\". The methodology contains many important details. Please read it before continuing here."
   ]
  },
  {
   "cell_type": "markdown",
   "metadata": {},
   "source": [
    "## Importing The Data"
   ]
  },
  {
   "cell_type": "code",
   "execution_count": 1,
   "metadata": {
    "collapsed": true
   },
   "outputs": [],
   "source": [
    "import pandas as pd\n",
    "import random"
   ]
  },
  {
   "cell_type": "code",
   "execution_count": 2,
   "metadata": {
    "collapsed": true
   },
   "outputs": [],
   "source": [
    "betting_data = pd.read_csv(\"../data/anonymous_betting_data.csv\")"
   ]
  },
  {
   "cell_type": "markdown",
   "metadata": {},
   "source": [
    "## Match Selection\n",
    "\n",
    "The code below excludes opening odds that implied probabilities more than 10 percentage points higher or lower than the median of all bookmakers’ opening odds for the match. (Otherwise the return of these odds toward the consensus could be mistaken for a sign of suspicious betting.) The code also excludes matches that were noted as \"canceled\" — typically a result of pre-match withdrawals — or \"walkover\" on OddsPortal."
   ]
  },
  {
   "cell_type": "code",
   "execution_count": 3,
   "metadata": {
    "collapsed": true
   },
   "outputs": [],
   "source": [
    "def get_outlier_openings(match_books):\n",
    "    median = match_books[\"implied_prob_winner_open\"].median()\n",
    "    return match_books[\n",
    "        (match_books[\"implied_prob_winner_open\"] - median).abs() > 0.1\n",
    "    ]"
   ]
  },
  {
   "cell_type": "code",
   "execution_count": 4,
   "metadata": {
    "collapsed": false
   },
   "outputs": [],
   "source": [
    "outlier_openings = betting_data\\\n",
    "    .groupby(\"match_uid\").apply(get_outlier_openings)"
   ]
  },
  {
   "cell_type": "code",
   "execution_count": 5,
   "metadata": {
    "collapsed": true
   },
   "outputs": [],
   "source": [
    "selected_betting_data = betting_data[\n",
    "    ~betting_data[\"match_book_uid\"].isin(outlier_openings[\"match_book_uid\"]) &\n",
    "    ~betting_data[\"is_cancelled_or_walkover\"]\n",
    "].copy()"
   ]
  },
  {
   "cell_type": "code",
   "execution_count": 6,
   "metadata": {
    "collapsed": false
   },
   "outputs": [
    {
     "name": "stdout",
     "output_type": "stream",
     "text": [
      "The selected data removes 539 matches.\n"
     ]
    }
   ],
   "source": [
    "print(\"The selected data removes {0} matches.\"\\\n",
    "      .format(betting_data[\"match_uid\"].nunique() - selected_betting_data[\"match_uid\"].nunique()))"
   ]
  },
  {
   "cell_type": "code",
   "execution_count": 7,
   "metadata": {
    "collapsed": false,
    "scrolled": true
   },
   "outputs": [
    {
     "name": "stdout",
     "output_type": "stream",
     "text": [
      "There are 25,993 unique matches with odds in the dataset from 2009 to 2015\n"
     ]
    }
   ],
   "source": [
    "print(\"There are {0:,} unique matches with odds in the dataset from {1:.0f} to {2:.0f}\"\\\n",
    "      .format(selected_betting_data[\"match_uid\"].nunique(), selected_betting_data[\"year\"].min(), selected_betting_data[\"year\"].max()))"
   ]
  },
  {
   "cell_type": "markdown",
   "metadata": {},
   "source": [
    "## Odds-Movement Calculation\n",
    "\n",
    "The code below find the odds movement for a bookmaker in a given match by calculating the difference between each player’s chance of winning implied by the opening and final odds."
   ]
  },
  {
   "cell_type": "code",
   "execution_count": 8,
   "metadata": {
    "collapsed": false
   },
   "outputs": [],
   "source": [
    "selected_betting_data[\"winner_movement\"] = selected_betting_data[\"implied_prob_winner_close\"] - selected_betting_data[\"implied_prob_winner_open\"]\n",
    "selected_betting_data[\"loser_movement\"] = selected_betting_data[\"implied_prob_loser_close\"] - selected_betting_data[\"implied_prob_loser_open\"]\n",
    "selected_betting_data[\"abs_winner_movement\"] = selected_betting_data[\"winner_movement\"].abs()"
   ]
  },
  {
   "cell_type": "markdown",
   "metadata": {},
   "source": [
    "## Player Selection\n",
    "\n",
    "The code below selects only matches where, in at least one book, the odds moved more than 10 percentage points. The 10-percentage-point cutoff is based on discussions with sports-betting investigators, who said that movement above this threshold was what prompted them to give greater scrutiny to a match.\n",
    "\n",
    "Players who lost more than 10 such “high-movement” matches are selected for analysis."
   ]
  },
  {
   "cell_type": "code",
   "execution_count": 9,
   "metadata": {
    "collapsed": true
   },
   "outputs": [],
   "source": [
    "high_move_matches = selected_betting_data[(selected_betting_data[\"abs_winner_movement\"] > 0.10)]\\\n",
    "    .sort(\"abs_winner_movement\")\\\n",
    "    .drop_duplicates(subset=\"match_uid\")\\\n",
    "    .copy()"
   ]
  },
  {
   "cell_type": "code",
   "execution_count": 10,
   "metadata": {
    "collapsed": false
   },
   "outputs": [
    {
     "name": "stdout",
     "output_type": "stream",
     "text": [
      "There was movement greater than 10 percentage points in 10.76% of matches.\n"
     ]
    }
   ],
   "source": [
    "print(\"There was movement greater than 10 percentage points in {0:.2f}% of matches.\"\\\n",
    "      .format(round(100.0 * len(high_move_matches) / selected_betting_data[\"match_uid\"].nunique(), 2)))"
   ]
  },
  {
   "cell_type": "code",
   "execution_count": 11,
   "metadata": {
    "collapsed": true
   },
   "outputs": [],
   "source": [
    "def find_high_movement_matches_for_player(name):\n",
    "    high_move_matches = selected_betting_data[\n",
    "            (((selected_betting_data[\"winner_movement\"] > 0.10) & \n",
    "              (selected_betting_data[\"loser\"] == name)) |\n",
    "             ((selected_betting_data[\"loser_movement\"] > 0.10) &\n",
    "              (selected_betting_data[\"winner\"] == name)))]\\\n",
    "            .sort(\"abs_winner_movement\")\\\n",
    "            .drop_duplicates(subset=\"match_uid\")\\\n",
    "            .copy()\n",
    "    return pd.Series([name, len(high_move_matches), len(high_move_matches[high_move_matches[\"loser\"] == name])])"
   ]
  },
  {
   "cell_type": "code",
   "execution_count": 12,
   "metadata": {
    "collapsed": true
   },
   "outputs": [],
   "source": [
    "all_players = pd.DataFrame(selected_betting_data[\"loser\"].unique()).rename(columns={0: \"name\"})"
   ]
  },
  {
   "cell_type": "code",
   "execution_count": 13,
   "metadata": {
    "collapsed": false
   },
   "outputs": [],
   "source": [
    "player_high_move_counts = all_players[\"name\"].apply(find_high_movement_matches_for_player)\\\n",
    "    .rename(columns={0: \"name\", 1: \"high_move_matches\", 2: \"high_move_losses\"})"
   ]
  },
  {
   "cell_type": "code",
   "execution_count": 14,
   "metadata": {
    "collapsed": true
   },
   "outputs": [],
   "source": [
    "selected_players = player_high_move_counts[(player_high_move_counts[\"high_move_losses\"] > 10)].copy()"
   ]
  },
  {
   "cell_type": "code",
   "execution_count": 15,
   "metadata": {
    "collapsed": false
   },
   "outputs": [
    {
     "name": "stdout",
     "output_type": "stream",
     "text": [
      "There are 39 players with more than 10 losses in high-move matches.\n"
     ]
    }
   ],
   "source": [
    "print(\"There are {0} players with more than 10 losses in high-move matches.\".format(len(selected_players)))"
   ]
  },
  {
   "cell_type": "markdown",
   "metadata": {},
   "source": [
    "## Simulation\n",
    "\n",
    "The code below runs a series of simulations to estimate the unlikelihood of each player’s outcomes. Each simulation uses the player’s implied chance of winning — based on each match’s opening odds — to generate a set of outcomes for each string of matches. BuzzFeed News ran the simulation 1 million times per player. The result: The estimated chance that the player would have lost as many (or more) high-movement matches as the player did, if the chances implied by the opening odds were correct. "
   ]
  },
  {
   "cell_type": "code",
   "execution_count": 16,
   "metadata": {
    "collapsed": true
   },
   "outputs": [],
   "source": [
    "class Player(object):\n",
    "    def __init__(self, player_name):\n",
    "        self.name = player_name\n",
    "        self.matches = self.get_matches()\n",
    "        self.wins = len(self.matches[self.matches[\"winner\"] == self.name])\n",
    "\n",
    "    def get_matches(self):\n",
    "        player_matches = selected_betting_data[\n",
    "            (((selected_betting_data[\"winner_movement\"] > 0.10) & \n",
    "              (selected_betting_data[\"loser\"] == self.name)) |\n",
    "             ((selected_betting_data[\"loser_movement\"] > 0.10) &\n",
    "              (selected_betting_data[\"winner\"] == self.name)))]\\\n",
    "            .sort(\"abs_winner_movement\", ascending=False )\\\n",
    "            .drop_duplicates(subset=\"match_uid\")\\\n",
    "            .copy()\n",
    "        player_matches[\"player_odds_open\"] = player_matches\\\n",
    "            .apply(lambda x: x[\"implied_prob_winner_open\"] if x[\"winner\"] == self.name else x[\"implied_prob_loser_open\"],axis=1)\n",
    "        player_matches[\"player_odds_close\"] = player_matches\\\n",
    "            .apply(lambda x: x[\"implied_prob_winner_close\"] if x[\"winner\"] == self.name else x[\"implied_prob_loser_close\"],axis=1)\n",
    "        return player_matches\n",
    "\n",
    "    def sim_once(self, odds_type=\"open\"):\n",
    "        wins = 0\n",
    "        for i, m in self.matches.iterrows():\n",
    "            if m[\"player_odds_\"+odds_type] > random.random():\n",
    "                wins += 1\n",
    "        return wins\n",
    "    \n",
    "    def sim_x_times(self, x, odds_type=\"open\"):\n",
    "        return [ self.sim_once(odds_type) for n in range(x) ]\n",
    "    \n",
    "    def pct_sims_with_more_than_x(self, x_times, odds_type=\"open\"):\n",
    "        return float(len( [ x for x in self.sim_x_times(x_times, odds_type) if x <= self.wins ] )) / x_times"
   ]
  },
  {
   "cell_type": "code",
   "execution_count": 17,
   "metadata": {
    "collapsed": true
   },
   "outputs": [],
   "source": [
    "N_SIMULATIONS = 1000000\n",
    "\n",
    "def get_likelihood(player_name):\n",
    "    player = Player(player_name)\n",
    "    return player.pct_sims_with_more_than_x(N_SIMULATIONS, \"open\")"
   ]
  },
  {
   "cell_type": "code",
   "execution_count": 18,
   "metadata": {
    "collapsed": true
   },
   "outputs": [],
   "source": [
    "selected_players[\"likelihood_open\"] = selected_players[\"name\"].apply(get_likelihood)"
   ]
  },
  {
   "cell_type": "markdown",
   "metadata": {},
   "source": [
    "## Classify Likelihood\n",
    "\n",
    "*Note on reading the `likelihood_level_open` column:*\n",
    "\n",
    "- Players who have *Bonferroni* likelihood below 5%: \\*\\*\\*\\*\n",
    "- Players who have an overall likelihood below 1%: \\*\\*\n",
    "- Players who have an overall likelihood below 1%: \\*"
   ]
  },
  {
   "cell_type": "code",
   "execution_count": 19,
   "metadata": {
    "collapsed": true
   },
   "outputs": [],
   "source": [
    "def classify_likelihood(likelihood):\n",
    "    if likelihood < (0.05 / len(selected_players)): return \"****\"\n",
    "    elif likelihood < 0.001: return \"***\"\n",
    "    elif likelihood < 0.01: return \"**\"\n",
    "    elif likelihood < 0.05: return \"*\"\n",
    "    return \"\""
   ]
  },
  {
   "cell_type": "code",
   "execution_count": 20,
   "metadata": {
    "collapsed": false
   },
   "outputs": [],
   "source": [
    "selected_players[\"likelihood_level_open\"] = selected_players[\"likelihood_open\"].apply(classify_likelihood)"
   ]
  },
  {
   "cell_type": "code",
   "execution_count": 21,
   "metadata": {
    "collapsed": false
   },
   "outputs": [
    {
     "data": {
      "text/html": [
       "<div>\n",
       "<table border=\"1\" class=\"dataframe\">\n",
       "  <thead>\n",
       "    <tr style=\"text-align: right;\">\n",
       "      <th></th>\n",
       "      <th>name</th>\n",
       "      <th>high_move_matches</th>\n",
       "      <th>high_move_losses</th>\n",
       "      <th>likelihood_open</th>\n",
       "      <th>likelihood_level_open</th>\n",
       "    </tr>\n",
       "  </thead>\n",
       "  <tbody>\n",
       "    <tr>\n",
       "      <th>58</th>\n",
       "      <td>f16cc81d239ad735c51cc71442cda44c4d1a9323eb4101...</td>\n",
       "      <td>16</td>\n",
       "      <td>15</td>\n",
       "      <td>0.000096</td>\n",
       "      <td>****</td>\n",
       "    </tr>\n",
       "    <tr>\n",
       "      <th>235</th>\n",
       "      <td>33367d214715ab5f5e335cd67dbc90e62983b98e5278a4...</td>\n",
       "      <td>16</td>\n",
       "      <td>15</td>\n",
       "      <td>0.000178</td>\n",
       "      <td>****</td>\n",
       "    </tr>\n",
       "    <tr>\n",
       "      <th>293</th>\n",
       "      <td>6702a5de750846f45a3d977f50023c1b20156c61949f2f...</td>\n",
       "      <td>12</td>\n",
       "      <td>12</td>\n",
       "      <td>0.000195</td>\n",
       "      <td>****</td>\n",
       "    </tr>\n",
       "    <tr>\n",
       "      <th>82</th>\n",
       "      <td>9c92af8ca1b57024bd0a39b73db8be44b25bcde4115549...</td>\n",
       "      <td>15</td>\n",
       "      <td>14</td>\n",
       "      <td>0.000410</td>\n",
       "      <td>****</td>\n",
       "    </tr>\n",
       "    <tr>\n",
       "      <th>0</th>\n",
       "      <td>0ffe23c8b80916f6b2c23a52e08018374d68d12f49b261...</td>\n",
       "      <td>18</td>\n",
       "      <td>15</td>\n",
       "      <td>0.002259</td>\n",
       "      <td>**</td>\n",
       "    </tr>\n",
       "    <tr>\n",
       "      <th>86</th>\n",
       "      <td>05f3190e5053090035664800d1f52203b40a826cf7f065...</td>\n",
       "      <td>15</td>\n",
       "      <td>13</td>\n",
       "      <td>0.002737</td>\n",
       "      <td>**</td>\n",
       "    </tr>\n",
       "    <tr>\n",
       "      <th>304</th>\n",
       "      <td>573dad2e08250afa99aa704c7ea888b421bcf06bd00aab...</td>\n",
       "      <td>14</td>\n",
       "      <td>13</td>\n",
       "      <td>0.005258</td>\n",
       "      <td>**</td>\n",
       "    </tr>\n",
       "    <tr>\n",
       "      <th>13</th>\n",
       "      <td>dd83d749567ad7c7f4e89656b08d4791acefd60724cc84...</td>\n",
       "      <td>19</td>\n",
       "      <td>15</td>\n",
       "      <td>0.005684</td>\n",
       "      <td>**</td>\n",
       "    </tr>\n",
       "    <tr>\n",
       "      <th>3</th>\n",
       "      <td>79784720fab57e7cc611e07c258cf49f484b9cee01bf47...</td>\n",
       "      <td>14</td>\n",
       "      <td>11</td>\n",
       "      <td>0.005984</td>\n",
       "      <td>**</td>\n",
       "    </tr>\n",
       "    <tr>\n",
       "      <th>69</th>\n",
       "      <td>4f7f8e1b43947b2fb123afb92263b4a863daa87a4de44c...</td>\n",
       "      <td>19</td>\n",
       "      <td>13</td>\n",
       "      <td>0.016370</td>\n",
       "      <td>*</td>\n",
       "    </tr>\n",
       "    <tr>\n",
       "      <th>251</th>\n",
       "      <td>822130a3121c663ea88c6429830f23a794791fed013f6e...</td>\n",
       "      <td>23</td>\n",
       "      <td>18</td>\n",
       "      <td>0.020464</td>\n",
       "      <td>*</td>\n",
       "    </tr>\n",
       "    <tr>\n",
       "      <th>341</th>\n",
       "      <td>5e77273d54e1ce9635dc4c3d0ab9f872ba3cf4f7d1204c...</td>\n",
       "      <td>18</td>\n",
       "      <td>14</td>\n",
       "      <td>0.027810</td>\n",
       "      <td>*</td>\n",
       "    </tr>\n",
       "    <tr>\n",
       "      <th>81</th>\n",
       "      <td>163a93c4de594ac23ebc52c7ae413761ea412054eec4b4...</td>\n",
       "      <td>14</td>\n",
       "      <td>11</td>\n",
       "      <td>0.033895</td>\n",
       "      <td>*</td>\n",
       "    </tr>\n",
       "    <tr>\n",
       "      <th>79</th>\n",
       "      <td>afd6124804065e4ba90270b3307940c404c2f286180009...</td>\n",
       "      <td>14</td>\n",
       "      <td>11</td>\n",
       "      <td>0.042248</td>\n",
       "      <td>*</td>\n",
       "    </tr>\n",
       "    <tr>\n",
       "      <th>240</th>\n",
       "      <td>178a5dbb14af3102f863f493fc909bcca7b116f991fa69...</td>\n",
       "      <td>17</td>\n",
       "      <td>13</td>\n",
       "      <td>0.047099</td>\n",
       "      <td>*</td>\n",
       "    </tr>\n",
       "  </tbody>\n",
       "</table>\n",
       "</div>"
      ],
      "text/plain": [
       "                                                  name  high_move_matches  \\\n",
       "58   f16cc81d239ad735c51cc71442cda44c4d1a9323eb4101...                 16   \n",
       "235  33367d214715ab5f5e335cd67dbc90e62983b98e5278a4...                 16   \n",
       "293  6702a5de750846f45a3d977f50023c1b20156c61949f2f...                 12   \n",
       "82   9c92af8ca1b57024bd0a39b73db8be44b25bcde4115549...                 15   \n",
       "0    0ffe23c8b80916f6b2c23a52e08018374d68d12f49b261...                 18   \n",
       "86   05f3190e5053090035664800d1f52203b40a826cf7f065...                 15   \n",
       "304  573dad2e08250afa99aa704c7ea888b421bcf06bd00aab...                 14   \n",
       "13   dd83d749567ad7c7f4e89656b08d4791acefd60724cc84...                 19   \n",
       "3    79784720fab57e7cc611e07c258cf49f484b9cee01bf47...                 14   \n",
       "69   4f7f8e1b43947b2fb123afb92263b4a863daa87a4de44c...                 19   \n",
       "251  822130a3121c663ea88c6429830f23a794791fed013f6e...                 23   \n",
       "341  5e77273d54e1ce9635dc4c3d0ab9f872ba3cf4f7d1204c...                 18   \n",
       "81   163a93c4de594ac23ebc52c7ae413761ea412054eec4b4...                 14   \n",
       "79   afd6124804065e4ba90270b3307940c404c2f286180009...                 14   \n",
       "240  178a5dbb14af3102f863f493fc909bcca7b116f991fa69...                 17   \n",
       "\n",
       "     high_move_losses  likelihood_open likelihood_level_open  \n",
       "58                 15         0.000096                  ****  \n",
       "235                15         0.000178                  ****  \n",
       "293                12         0.000195                  ****  \n",
       "82                 14         0.000410                  ****  \n",
       "0                  15         0.002259                    **  \n",
       "86                 13         0.002737                    **  \n",
       "304                13         0.005258                    **  \n",
       "13                 15         0.005684                    **  \n",
       "3                  11         0.005984                    **  \n",
       "69                 13         0.016370                     *  \n",
       "251                18         0.020464                     *  \n",
       "341                14         0.027810                     *  \n",
       "81                 11         0.033895                     *  \n",
       "79                 11         0.042248                     *  \n",
       "240                13         0.047099                     *  "
      ]
     },
     "execution_count": 21,
     "metadata": {},
     "output_type": "execute_result"
    }
   ],
   "source": [
    "selected_players[\n",
    "    selected_players[\"likelihood_open\"] < 0.05\n",
    "].sort(\"likelihood_open\")"
   ]
  },
  {
   "cell_type": "markdown",
   "metadata": {},
   "source": [
    "In some simulations an additional player received an estimated likelihood just barely under 0.05. To be conservative we are not including that player among our totals. "
   ]
  },
  {
   "cell_type": "markdown",
   "metadata": {},
   "source": [
    "## How Many Questionable Matches Have Players On Investigators' List Lost?\n",
    "\n",
    "The strings below represent the anonymized names of the 28 players flagged in a 2008 report by investigators for the Assocation of Tennis Professionals. Each anonymized name is the SHA256 hash of the name plus a randomly-generated salt. "
   ]
  },
  {
   "cell_type": "code",
   "execution_count": 22,
   "metadata": {
    "collapsed": true
   },
   "outputs": [],
   "source": [
    "report_players = [\n",
    "     'f5cecec5a7714e86cf761e7cda278f144d82eac78d15c7f67aecf9ba186e7830',\n",
    "     'e39d12f03f441a3e8eb207fb12eced70fdf2c06cbaf27e123d457d1780447baf',\n",
    "     'fa4319726a465ed7c72f125332082b1e1afdef2d8164c4dfff237d78aed2e39e',\n",
    "     '0ffe23c8b80916f6b2c23a52e08018374d68d12f49b261ccb36fecd52927cc0a',\n",
    "     'b5c0e84eda074671d6a3d7edf59e65242d080e26d35fa158b11f74c9891355e4',\n",
    "     '11411268e0ea9e1527a49193485d117e35b0645a17f4b0b40da262300e8d4430',\n",
    "     '02a755e7afd8581feadcfd369d8a62fc7fec476ce4e0c55de5fc03c0da0f3c81',\n",
    "     '47f8d9fb7d7156217c15e7aea9127cf8a7ffcabdd3e97fc16c533dc807430308',\n",
    "     '2ed14b47b1c58532b757d76404dcf1a114b712e50193f0b0a5a05f52e3067134',\n",
    "     '6840fadf79442f1fa10569f210305a669242159fd31abc2eaa94d158a7e3b301',\n",
    "     '91066973c924f6a41cef067cb3ebdb8f6d6c6a0cdd85933bb84965c25d377c18',\n",
    "     'd489880f3981ace1f6c03616fe169a0b5e513ccd5da3547ce971dde26b3bde43',\n",
    "     '30b4b70b6ed9adb822559be9d7f74747e73af99a33c0649d87dd21cadedb9681',\n",
    "     '5b94678362f659bd7058eba695e963a2039567f3830d502665808303c27771c4',\n",
    "     'c06ec5c640acfd2a94350a468185475f73e1d614f497540cf4e05f2a905a8fac',\n",
    "     '7a46553d6c2a135edb7d6a4e3408be7eb5f41953f442fb108a7b6e587ecee038',\n",
    "     'dd83d749567ad7c7f4e89656b08d4791acefd60724cc848697903d2aa13731c7',\n",
    "     'aa2bd77955c425c8da69a09584beaccf24a2dc15b903beecc7e9069d4c520c21',\n",
    "     '55c14ebb1ec4efa5c6e3dd272c747896d2647c883ca6861ebc6f83d382075c69',\n",
    "     '694668c73710b80adb51764ae06a1413fb93e7d10e0d329a63c83a14b77c3fd2',\n",
    "     'dcb744cbd79602f5ad05227acabb3be17729b2b5bda60595f5b62c0f0145843f',\n",
    "     '51c4b3f11032d72af378075926b7ed628360fd3ec605a9298a00e076ef797f4a',\n",
    "     'd5e122c7e9bd24d1295d3bbcf29455c21676e09ff8f69255dd387c0240544d20',\n",
    "     '614c2049880f015352fb695961ec2763194439ce9fbb11ece98e2264eb1942df',\n",
    "     '061a49265f4f3b6970b8943181aa93431bbfcc6cc96f5a6b23590c2785fddc5a',\n",
    "     '73f6d26367e4793ebd7dfe1e1ef17cb64455e41c9e30cc78fb7ef7277268b546',\n",
    "     'cd4a092bde2eba04a8adcb2f241c638b560ee56b9c537f78bd4808937f1b73e2',\n",
    "     'c9d4889baca9908d2ca2f8515d02f164fcd84642bee5e73cbf3544b26a8315a6'\n",
    "]"
   ]
  },
  {
   "cell_type": "code",
   "execution_count": 23,
   "metadata": {
    "collapsed": true
   },
   "outputs": [],
   "source": [
    "atp_report_high_move_losses = selected_betting_data[\n",
    "    (selected_betting_data[\"winner_movement\"] > 0.10) & \n",
    "    (selected_betting_data[\"loser\"].isin(report_players))\n",
    "].drop_duplicates(subset=\"match_uid\")"
   ]
  },
  {
   "cell_type": "code",
   "execution_count": 24,
   "metadata": {
    "collapsed": false
   },
   "outputs": [
    {
     "name": "stdout",
     "output_type": "stream",
     "text": [
      "Players in the 2008 ATP report have lost 112 matches with large pre-match movements in the data we analyzed.\n"
     ]
    }
   ],
   "source": [
    "print(\"Players in the 2008 ATP report have lost {0} matches with large pre-match movements in the data we analyzed.\"\\\n",
    "      .format(len(atp_report_high_move_losses)))"
   ]
  },
  {
   "cell_type": "markdown",
   "metadata": {},
   "source": [
    "---\n",
    "\n",
    "---\n",
    "\n",
    "---"
   ]
  }
 ],
 "metadata": {
  "kernelspec": {
   "display_name": "Python 2",
   "language": "python",
   "name": "python2"
  },
  "language_info": {
   "codemirror_mode": {
    "name": "ipython",
    "version": 2
   },
   "file_extension": ".py",
   "mimetype": "text/x-python",
   "name": "python",
   "nbconvert_exporter": "python",
   "pygments_lexer": "ipython2",
   "version": "2.7.9"
  }
 },
 "nbformat": 4,
 "nbformat_minor": 0
}
